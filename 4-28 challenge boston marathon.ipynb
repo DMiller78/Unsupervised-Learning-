{
 "cells": [
  {
   "cell_type": "code",
   "execution_count": 1,
   "metadata": {},
   "outputs": [],
   "source": [
    "import pandas as pd\n",
    "import numpy as np\n",
    "import scipy\n",
    "import matplotlib.pyplot as plt\n",
    "import seaborn as sns\n",
    "from sklearn.cluster import KMeans\n",
    "from sklearn.preprocessing import normalize\n",
    "from sklearn.decomposition import PCA\n",
    "from sklearn.cluster import MiniBatchKMeans\n",
    "from sklearn.cluster import KMeans\n",
    "from sklearn.preprocessing import normalize\n",
    "from sklearn.model_selection import train_test_split\n",
    "from sklearn.decomposition import PCA\n",
    "%matplotlib inline"
   ]
  },
  {
   "cell_type": "code",
   "execution_count": 2,
   "metadata": {},
   "outputs": [
    {
     "data": {
      "text/html": [
       "<div>\n",
       "<style scoped>\n",
       "    .dataframe tbody tr th:only-of-type {\n",
       "        vertical-align: middle;\n",
       "    }\n",
       "\n",
       "    .dataframe tbody tr th {\n",
       "        vertical-align: top;\n",
       "    }\n",
       "\n",
       "    .dataframe thead th {\n",
       "        text-align: right;\n",
       "    }\n",
       "</style>\n",
       "<table border=\"1\" class=\"dataframe\">\n",
       "  <thead>\n",
       "    <tr style=\"text-align: right;\">\n",
       "      <th></th>\n",
       "      <th>25k</th>\n",
       "      <th>age</th>\n",
       "      <th>name</th>\n",
       "      <th>division</th>\n",
       "      <th>10k</th>\n",
       "      <th>gender</th>\n",
       "      <th>half</th>\n",
       "      <th>official</th>\n",
       "      <th>bib</th>\n",
       "      <th>ctz</th>\n",
       "      <th>...</th>\n",
       "      <th>overall</th>\n",
       "      <th>pace</th>\n",
       "      <th>state</th>\n",
       "      <th>30k</th>\n",
       "      <th>5k</th>\n",
       "      <th>genderdiv</th>\n",
       "      <th>20k</th>\n",
       "      <th>35k</th>\n",
       "      <th>city</th>\n",
       "      <th>40k</th>\n",
       "    </tr>\n",
       "  </thead>\n",
       "  <tbody>\n",
       "    <tr>\n",
       "      <th>column type</th>\n",
       "      <td>object</td>\n",
       "      <td>int64</td>\n",
       "      <td>object</td>\n",
       "      <td>int64</td>\n",
       "      <td>object</td>\n",
       "      <td>object</td>\n",
       "      <td>object</td>\n",
       "      <td>float64</td>\n",
       "      <td>object</td>\n",
       "      <td>object</td>\n",
       "      <td>...</td>\n",
       "      <td>int64</td>\n",
       "      <td>float64</td>\n",
       "      <td>object</td>\n",
       "      <td>object</td>\n",
       "      <td>object</td>\n",
       "      <td>int64</td>\n",
       "      <td>object</td>\n",
       "      <td>object</td>\n",
       "      <td>object</td>\n",
       "      <td>object</td>\n",
       "    </tr>\n",
       "    <tr>\n",
       "      <th>null values (nb)</th>\n",
       "      <td>0</td>\n",
       "      <td>0</td>\n",
       "      <td>0</td>\n",
       "      <td>0</td>\n",
       "      <td>0</td>\n",
       "      <td>0</td>\n",
       "      <td>0</td>\n",
       "      <td>0</td>\n",
       "      <td>0</td>\n",
       "      <td>15407</td>\n",
       "      <td>...</td>\n",
       "      <td>0</td>\n",
       "      <td>0</td>\n",
       "      <td>1463</td>\n",
       "      <td>0</td>\n",
       "      <td>0</td>\n",
       "      <td>0</td>\n",
       "      <td>0</td>\n",
       "      <td>0</td>\n",
       "      <td>1</td>\n",
       "      <td>0</td>\n",
       "    </tr>\n",
       "    <tr>\n",
       "      <th>null values (%)</th>\n",
       "      <td>0</td>\n",
       "      <td>0</td>\n",
       "      <td>0</td>\n",
       "      <td>0</td>\n",
       "      <td>0</td>\n",
       "      <td>0</td>\n",
       "      <td>0</td>\n",
       "      <td>0</td>\n",
       "      <td>0</td>\n",
       "      <td>95.3168</td>\n",
       "      <td>...</td>\n",
       "      <td>0</td>\n",
       "      <td>0</td>\n",
       "      <td>9.05098</td>\n",
       "      <td>0</td>\n",
       "      <td>0</td>\n",
       "      <td>0</td>\n",
       "      <td>0</td>\n",
       "      <td>0</td>\n",
       "      <td>0.00618659</td>\n",
       "      <td>0</td>\n",
       "    </tr>\n",
       "  </tbody>\n",
       "</table>\n",
       "<p>3 rows × 21 columns</p>\n",
       "</div>"
      ],
      "text/plain": [
       "                     25k    age    name division     10k  gender    half  \\\n",
       "column type       object  int64  object    int64  object  object  object   \n",
       "null values (nb)       0      0       0        0       0       0       0   \n",
       "null values (%)        0      0       0        0       0       0       0   \n",
       "\n",
       "                 official     bib      ctz   ...   overall     pace    state  \\\n",
       "column type       float64  object   object   ...     int64  float64   object   \n",
       "null values (nb)        0       0    15407   ...         0        0     1463   \n",
       "null values (%)         0       0  95.3168   ...         0        0  9.05098   \n",
       "\n",
       "                     30k      5k genderdiv     20k     35k        city     40k  \n",
       "column type       object  object     int64  object  object      object  object  \n",
       "null values (nb)       0       0         0       0       0           1       0  \n",
       "null values (%)        0       0         0       0       0  0.00618659       0  \n",
       "\n",
       "[3 rows x 21 columns]"
      ]
     },
     "execution_count": 2,
     "metadata": {},
     "output_type": "execute_result"
    }
   ],
   "source": [
    "# Loading the data again.\n",
    "\n",
    "\n",
    "url = (\"https://raw.githubusercontent.com/llimllib/bostonmarathon/master/results/2013/results.csv\")\n",
    "df = pd.read_csv(url,delimiter=',',error_bad_lines=False) \n",
    "\n",
    "# providing more information per column on data types and number of null values\n",
    "tab_info=pd.DataFrame(df.dtypes).T.rename(index={0:'column type'})\n",
    "tab_info=tab_info.append(pd.DataFrame(df.isnull().sum()).T.rename(index={0:'null values (nb)'}))\n",
    "tab_info=tab_info.append(pd.DataFrame(df.isnull().sum()/df.shape[0]*100)\n",
    "                         .T.rename(index={0:'null values (%)'}))\n",
    "tab_info"
   ]
  },
  {
   "cell_type": "markdown",
   "metadata": {},
   "source": [
    "Things to do: \n",
    "\n",
    "1. fix data from object to int or float\n",
    "2. EDA - visualizations of the runners \n",
    "3. What is the story? What do you want to focus the visualizations and analysis around?\n",
    "4. How do k-means help show these relationships?\n",
    "5. Key features?\n",
    "\n"
   ]
  },
  {
   "cell_type": "code",
   "execution_count": 3,
   "metadata": {},
   "outputs": [],
   "source": [
    "#Show all columns in the dataset \n",
    "pd.set_option('display.max_columns', None)\n"
   ]
  },
  {
   "cell_type": "code",
   "execution_count": 4,
   "metadata": {},
   "outputs": [
    {
     "data": {
      "text/html": [
       "<div>\n",
       "<style scoped>\n",
       "    .dataframe tbody tr th:only-of-type {\n",
       "        vertical-align: middle;\n",
       "    }\n",
       "\n",
       "    .dataframe tbody tr th {\n",
       "        vertical-align: top;\n",
       "    }\n",
       "\n",
       "    .dataframe thead th {\n",
       "        text-align: right;\n",
       "    }\n",
       "</style>\n",
       "<table border=\"1\" class=\"dataframe\">\n",
       "  <thead>\n",
       "    <tr style=\"text-align: right;\">\n",
       "      <th></th>\n",
       "      <th>25k</th>\n",
       "      <th>age</th>\n",
       "      <th>name</th>\n",
       "      <th>division</th>\n",
       "      <th>10k</th>\n",
       "      <th>gender</th>\n",
       "      <th>half</th>\n",
       "      <th>official</th>\n",
       "      <th>bib</th>\n",
       "      <th>ctz</th>\n",
       "      <th>country</th>\n",
       "      <th>overall</th>\n",
       "      <th>pace</th>\n",
       "      <th>state</th>\n",
       "      <th>30k</th>\n",
       "      <th>5k</th>\n",
       "      <th>genderdiv</th>\n",
       "      <th>20k</th>\n",
       "      <th>35k</th>\n",
       "      <th>city</th>\n",
       "      <th>40k</th>\n",
       "    </tr>\n",
       "  </thead>\n",
       "  <tbody>\n",
       "    <tr>\n",
       "      <th>0</th>\n",
       "      <td>49.87</td>\n",
       "      <td>28</td>\n",
       "      <td>Cassidy, Josh R.</td>\n",
       "      <td>9</td>\n",
       "      <td>18.18</td>\n",
       "      <td>M</td>\n",
       "      <td>40.93</td>\n",
       "      <td>90.90</td>\n",
       "      <td>W1</td>\n",
       "      <td>NaN</td>\n",
       "      <td>CAN</td>\n",
       "      <td>9</td>\n",
       "      <td>3.47</td>\n",
       "      <td>ON</td>\n",
       "      <td>62.07</td>\n",
       "      <td>8.90</td>\n",
       "      <td>9</td>\n",
       "      <td>38.80</td>\n",
       "      <td>74.73</td>\n",
       "      <td>Toronto</td>\n",
       "      <td>85.55</td>\n",
       "    </tr>\n",
       "    <tr>\n",
       "      <th>1</th>\n",
       "      <td>77.27</td>\n",
       "      <td>30</td>\n",
       "      <td>Korir, Wesley</td>\n",
       "      <td>5</td>\n",
       "      <td>30.90</td>\n",
       "      <td>M</td>\n",
       "      <td>64.90</td>\n",
       "      <td>132.50</td>\n",
       "      <td>1</td>\n",
       "      <td>NaN</td>\n",
       "      <td>KEN</td>\n",
       "      <td>5</td>\n",
       "      <td>5.07</td>\n",
       "      <td>NaN</td>\n",
       "      <td>92.97</td>\n",
       "      <td>15.90</td>\n",
       "      <td>5</td>\n",
       "      <td>61.52</td>\n",
       "      <td>108.78</td>\n",
       "      <td>Kenya</td>\n",
       "      <td>124.77</td>\n",
       "    </tr>\n",
       "    <tr>\n",
       "      <th>2</th>\n",
       "      <td>77.23</td>\n",
       "      <td>23</td>\n",
       "      <td>Desisa, Lelisa</td>\n",
       "      <td>1</td>\n",
       "      <td>30.90</td>\n",
       "      <td>M</td>\n",
       "      <td>64.92</td>\n",
       "      <td>130.37</td>\n",
       "      <td>2</td>\n",
       "      <td>NaN</td>\n",
       "      <td>ETH</td>\n",
       "      <td>1</td>\n",
       "      <td>4.98</td>\n",
       "      <td>NaN</td>\n",
       "      <td>92.72</td>\n",
       "      <td>15.93</td>\n",
       "      <td>1</td>\n",
       "      <td>61.53</td>\n",
       "      <td>108.68</td>\n",
       "      <td>Ambo</td>\n",
       "      <td>123.78</td>\n",
       "    </tr>\n",
       "    <tr>\n",
       "      <th>3</th>\n",
       "      <td>50.50</td>\n",
       "      <td>32</td>\n",
       "      <td>Fearnley, Kurt H.</td>\n",
       "      <td>5</td>\n",
       "      <td>18.73</td>\n",
       "      <td>M</td>\n",
       "      <td>42.00</td>\n",
       "      <td>88.43</td>\n",
       "      <td>W2</td>\n",
       "      <td>NaN</td>\n",
       "      <td>AUS</td>\n",
       "      <td>5</td>\n",
       "      <td>3.38</td>\n",
       "      <td>NaN</td>\n",
       "      <td>61.35</td>\n",
       "      <td>8.98</td>\n",
       "      <td>5</td>\n",
       "      <td>39.88</td>\n",
       "      <td>73.00</td>\n",
       "      <td>Hamilton</td>\n",
       "      <td>83.43</td>\n",
       "    </tr>\n",
       "    <tr>\n",
       "      <th>4</th>\n",
       "      <td>48.75</td>\n",
       "      <td>39</td>\n",
       "      <td>Hokinoue, Kota</td>\n",
       "      <td>3</td>\n",
       "      <td>18.18</td>\n",
       "      <td>M</td>\n",
       "      <td>40.57</td>\n",
       "      <td>87.22</td>\n",
       "      <td>W3</td>\n",
       "      <td>NaN</td>\n",
       "      <td>JPN</td>\n",
       "      <td>3</td>\n",
       "      <td>3.33</td>\n",
       "      <td>NaN</td>\n",
       "      <td>59.92</td>\n",
       "      <td>8.92</td>\n",
       "      <td>3</td>\n",
       "      <td>38.55</td>\n",
       "      <td>71.68</td>\n",
       "      <td>Iizuka</td>\n",
       "      <td>81.88</td>\n",
       "    </tr>\n",
       "    <tr>\n",
       "      <th>5</th>\n",
       "      <td>77.25</td>\n",
       "      <td>28</td>\n",
       "      <td>Gebremariam, Gebregziabher</td>\n",
       "      <td>3</td>\n",
       "      <td>30.88</td>\n",
       "      <td>M</td>\n",
       "      <td>64.92</td>\n",
       "      <td>130.47</td>\n",
       "      <td>3</td>\n",
       "      <td>NaN</td>\n",
       "      <td>ETH</td>\n",
       "      <td>3</td>\n",
       "      <td>4.98</td>\n",
       "      <td>NaN</td>\n",
       "      <td>92.72</td>\n",
       "      <td>15.93</td>\n",
       "      <td>3</td>\n",
       "      <td>61.53</td>\n",
       "      <td>108.70</td>\n",
       "      <td>Tigray</td>\n",
       "      <td>123.78</td>\n",
       "    </tr>\n",
       "    <tr>\n",
       "      <th>6</th>\n",
       "      <td>50.50</td>\n",
       "      <td>42</td>\n",
       "      <td>Soejima, Masazumi</td>\n",
       "      <td>6</td>\n",
       "      <td>18.73</td>\n",
       "      <td>M</td>\n",
       "      <td>41.98</td>\n",
       "      <td>90.02</td>\n",
       "      <td>W4</td>\n",
       "      <td>NaN</td>\n",
       "      <td>JPN</td>\n",
       "      <td>6</td>\n",
       "      <td>3.43</td>\n",
       "      <td>NaN</td>\n",
       "      <td>61.63</td>\n",
       "      <td>8.98</td>\n",
       "      <td>6</td>\n",
       "      <td>39.87</td>\n",
       "      <td>74.00</td>\n",
       "      <td>Fukuoka</td>\n",
       "      <td>84.67</td>\n",
       "    </tr>\n",
       "  </tbody>\n",
       "</table>\n",
       "</div>"
      ],
      "text/plain": [
       "     25k  age                        name  division    10k gender   half  \\\n",
       "0  49.87   28            Cassidy, Josh R.         9  18.18      M  40.93   \n",
       "1  77.27   30               Korir, Wesley         5  30.90      M  64.90   \n",
       "2  77.23   23              Desisa, Lelisa         1  30.90      M  64.92   \n",
       "3  50.50   32           Fearnley, Kurt H.         5  18.73      M  42.00   \n",
       "4  48.75   39              Hokinoue, Kota         3  18.18      M  40.57   \n",
       "5  77.25   28  Gebremariam, Gebregziabher         3  30.88      M  64.92   \n",
       "6  50.50   42           Soejima, Masazumi         6  18.73      M  41.98   \n",
       "\n",
       "   official bib  ctz country  overall  pace state    30k     5k  genderdiv  \\\n",
       "0     90.90  W1  NaN     CAN        9  3.47    ON  62.07   8.90          9   \n",
       "1    132.50   1  NaN     KEN        5  5.07   NaN  92.97  15.90          5   \n",
       "2    130.37   2  NaN     ETH        1  4.98   NaN  92.72  15.93          1   \n",
       "3     88.43  W2  NaN     AUS        5  3.38   NaN  61.35   8.98          5   \n",
       "4     87.22  W3  NaN     JPN        3  3.33   NaN  59.92   8.92          3   \n",
       "5    130.47   3  NaN     ETH        3  4.98   NaN  92.72  15.93          3   \n",
       "6     90.02  W4  NaN     JPN        6  3.43   NaN  61.63   8.98          6   \n",
       "\n",
       "     20k     35k      city     40k  \n",
       "0  38.80   74.73   Toronto   85.55  \n",
       "1  61.52  108.78     Kenya  124.77  \n",
       "2  61.53  108.68      Ambo  123.78  \n",
       "3  39.88   73.00  Hamilton   83.43  \n",
       "4  38.55   71.68    Iizuka   81.88  \n",
       "5  61.53  108.70    Tigray  123.78  \n",
       "6  39.87   74.00   Fukuoka   84.67  "
      ]
     },
     "execution_count": 4,
     "metadata": {},
     "output_type": "execute_result"
    }
   ],
   "source": [
    "df.head(7)"
   ]
  },
  {
   "cell_type": "code",
   "execution_count": 5,
   "metadata": {},
   "outputs": [
    {
     "name": "stdout",
     "output_type": "stream",
     "text": [
      "<class 'pandas.core.frame.DataFrame'>\n",
      "RangeIndex: 16164 entries, 0 to 16163\n",
      "Data columns (total 21 columns):\n",
      "25k          16164 non-null object\n",
      "age          16164 non-null int64\n",
      "name         16164 non-null object\n",
      "division     16164 non-null int64\n",
      "10k          16164 non-null object\n",
      "gender       16164 non-null object\n",
      "half         16164 non-null object\n",
      "official     16164 non-null float64\n",
      "bib          16164 non-null object\n",
      "ctz          757 non-null object\n",
      "country      16164 non-null object\n",
      "overall      16164 non-null int64\n",
      "pace         16164 non-null float64\n",
      "state        14701 non-null object\n",
      "30k          16164 non-null object\n",
      "5k           16164 non-null object\n",
      "genderdiv    16164 non-null int64\n",
      "20k          16164 non-null object\n",
      "35k          16164 non-null object\n",
      "city         16163 non-null object\n",
      "40k          16164 non-null object\n",
      "dtypes: float64(2), int64(4), object(15)\n",
      "memory usage: 2.6+ MB\n"
     ]
    }
   ],
   "source": [
    "df.info()"
   ]
  },
  {
   "cell_type": "code",
   "execution_count": 6,
   "metadata": {},
   "outputs": [
    {
     "data": {
      "text/plain": [
       "25k              0\n",
       "age              0\n",
       "name             0\n",
       "division         0\n",
       "10k              0\n",
       "gender           0\n",
       "half             0\n",
       "official         0\n",
       "bib              0\n",
       "ctz          15407\n",
       "country          0\n",
       "overall          0\n",
       "pace             0\n",
       "state         1463\n",
       "30k              0\n",
       "5k               0\n",
       "genderdiv        0\n",
       "20k              0\n",
       "35k              0\n",
       "city             1\n",
       "40k              0\n",
       "dtype: int64"
      ]
     },
     "execution_count": 6,
     "metadata": {},
     "output_type": "execute_result"
    }
   ],
   "source": [
    "count_nan = len(df) - df.count()\n",
    "count_nan"
   ]
  },
  {
   "cell_type": "markdown",
   "metadata": {},
   "source": [
    "# Exploratory Data Analysis "
   ]
  },
  {
   "cell_type": "code",
   "execution_count": 7,
   "metadata": {},
   "outputs": [
    {
     "data": {
      "image/png": "[encoded data removed]",
      "text/plain": [
       "<Figure size 576x432 with 1 Axes>"
      ]
     },
     "metadata": {},
     "output_type": "display_data"
    }
   ],
   "source": [
    "df_race = df[['city','age']].groupby(['city']).sum()\n",
    "df_race = df_race['age'].sort_values(ascending=False)[:10]\n",
    "df_race_keys = df_race.index\n",
    "df_race_val = df_race.values\n",
    "fig,ax = plt.subplots(figsize=(8,6))\n",
    "sns.barplot(x = df_race_keys,y =df_race_val)\n",
    "plt.title('Age by City')\n",
    "plt.ylabel('Counts')\n",
    "ticks = plt.setp(ax.get_xticklabels(),rotation=90)"
   ]
  },
  {
   "cell_type": "markdown",
   "metadata": {},
   "source": [
    "New York city has the most amount of age (range) and runners that participated in the 2013 boston marathon. "
   ]
  },
  {
   "cell_type": "code",
   "execution_count": 8,
   "metadata": {},
   "outputs": [
    {
     "data": {
      "image/png": "[encoded data removed]",
      "text/plain": [
       "<Figure size 576x432 with 1 Axes>"
      ]
     },
     "metadata": {},
     "output_type": "display_data"
    }
   ],
   "source": [
    "df_race = df[['gender','official']].groupby(['gender']).sum()\n",
    "df_race = df_race['official'].sort_values(ascending=False)[:10]\n",
    "df_race_keys = df_race.index\n",
    "df_race_val = df_race.values\n",
    "fig,ax = plt.subplots(figsize=(8,6))\n",
    "sns.barplot(x = df_race_keys,y =df_race_val)\n",
    "plt.title('Pace in races')\n",
    "plt.ylabel('Counts')\n",
    "ticks = plt.setp(ax.get_xticklabels(),rotation=90)"
   ]
  },
  {
   "cell_type": "code",
   "execution_count": 9,
   "metadata": {},
   "outputs": [
    {
     "data": {
      "image/png": "[encoded data removed]",
      "text/plain": [
       "<Figure size 432x288 with 1 Axes>"
      ]
     },
     "metadata": {},
     "output_type": "display_data"
    }
   ],
   "source": [
    "plt.hist(df.age, range= [18, 70])\n",
    "plt.title('Age Histogram')\n",
    "plt.show()"
   ]
  },
  {
   "cell_type": "code",
   "execution_count": 10,
   "metadata": {},
   "outputs": [
    {
     "data": {
      "image/png": "[encoded data removed]",
      "text/plain": [
       "<Figure size 432x288 with 1 Axes>"
      ]
     },
     "metadata": {},
     "output_type": "display_data"
    }
   ],
   "source": [
    "plt.hist(df.pace)\n",
    "plt.title('Pace of racers')\n",
    "plt.show()"
   ]
  },
  {
   "cell_type": "code",
   "execution_count": 11,
   "metadata": {},
   "outputs": [
    {
     "data": {
      "image/png": "[encoded data removed]",
      "text/plain": [
       "<Figure size 432x288 with 1 Axes>"
      ]
     },
     "metadata": {},
     "output_type": "display_data"
    }
   ],
   "source": [
    "plt.hist(df.official)\n",
    "plt.title('Official Times Histogram')\n",
    "plt.show()"
   ]
  },
  {
   "cell_type": "code",
   "execution_count": 12,
   "metadata": {},
   "outputs": [
    {
     "data": {
      "image/png": "[encoded data removed]",
      "text/plain": [
       "<Figure size 432x288 with 1 Axes>"
      ]
     },
     "metadata": {},
     "output_type": "display_data"
    }
   ],
   "source": [
    "# Removing errors (no sub-2s yet, and definitely not at Boston...)\n",
    "# Likely to be wheelchair racers\n",
    "df = df.loc[df.official>130, :]\n",
    "\n",
    "plt.hist(df.official)\n",
    "plt.show()\n"
   ]
  },
  {
   "cell_type": "code",
   "execution_count": 13,
   "metadata": {},
   "outputs": [
    {
     "data": {
      "image/png": "[encoded data removed]",
      "text/plain": [
       "<Figure size 936x576 with 1 Axes>"
      ]
     },
     "metadata": {},
     "output_type": "display_data"
    }
   ],
   "source": [
    "s = df.groupby('country').count()['bib'].sort_values(ascending=False).head(21)[2:]\n",
    "g = sns.barplot(s.index, s, palette='rainbow')\n",
    "g.figure.set_size_inches(13,8)\n",
    "g.set_title(\"Most popular Country after US & Canada)\");"
   ]
  },
  {
   "cell_type": "markdown",
   "metadata": {},
   "source": [
    "Great Britian followed by Japan made up the most runners after Canada and the US. "
   ]
  },
  {
   "cell_type": "code",
   "execution_count": 14,
   "metadata": {},
   "outputs": [
    {
     "data": {
      "image/png": "[encoded data removed]",
      "text/plain": [
       "<Figure size 432x288 with 1 Axes>"
      ]
     },
     "metadata": {},
     "output_type": "display_data"
    }
   ],
   "source": [
    "df_avg = df.groupby(['age'], as_index=False).mean()\n",
    "plt.scatter(x = df_avg['age'], y = df_avg['official'],color = 'green')\n",
    "plt.title('2013 Finish Time by Age') \n",
    "plt.xlabel('Age groups')\n",
    "plt.ylabel('Finish Time (in minutes)');"
   ]
  },
  {
   "cell_type": "markdown",
   "metadata": {},
   "source": [
    "The age groups between 20 - 30 are considerably faster then the rest of the runner population. Younger age and better atheletic ability and stamia. Between 40 and 65 as age increases so does the finish time. "
   ]
  },
  {
   "cell_type": "code",
   "execution_count": 15,
   "metadata": {},
   "outputs": [],
   "source": [
    "make_num = (['10k','25k','35k','30k','5k','half','20k','40k'])\n",
    "for col in make_num:\n",
    "    df[col]= df[col].str.replace('-', '')\n",
    "    df[col] = pd.to_numeric(df[col])"
   ]
  },
  {
   "cell_type": "code",
   "execution_count": 16,
   "metadata": {},
   "outputs": [],
   "source": [
    "df.fillna(0, inplace=True)"
   ]
  },
  {
   "cell_type": "code",
   "execution_count": 44,
   "metadata": {},
   "outputs": [
    {
     "data": {
      "image/png": "[encoded data removed]",
      "text/plain": [
       "<Figure size 432x288 with 1 Axes>"
      ]
     },
     "metadata": {},
     "output_type": "display_data"
    }
   ],
   "source": [
    "plt.scatter(y = df['official'], x = df['40k']);"
   ]
  },
  {
   "cell_type": "code",
   "execution_count": 18,
   "metadata": {},
   "outputs": [],
   "source": [
    "drop = (['name','city','ctz','bib','state','country'])\n",
    "make_dum = (['gender'])"
   ]
  },
  {
   "cell_type": "code",
   "execution_count": 19,
   "metadata": {},
   "outputs": [],
   "source": [
    "df_dum = pd.get_dummies(df[make_dum])\n",
    "df = pd.concat([df_dum, df], axis=1)\n",
    "df['US'] = np.where(df['country'] == 'USA', 1, 0)\n",
    "df = df.drop(drop,1)\n",
    "df = df.drop(make_dum,1)"
   ]
  },
  {
   "cell_type": "code",
   "execution_count": 20,
   "metadata": {},
   "outputs": [],
   "source": [
    "df = df.query('official >  0')  # remove people who do not finish"
   ]
  },
  {
   "cell_type": "code",
   "execution_count": 21,
   "metadata": {},
   "outputs": [
    {
     "data": {
      "text/html": [
       "<div>\n",
       "<style scoped>\n",
       "    .dataframe tbody tr th:only-of-type {\n",
       "        vertical-align: middle;\n",
       "    }\n",
       "\n",
       "    .dataframe tbody tr th {\n",
       "        vertical-align: top;\n",
       "    }\n",
       "\n",
       "    .dataframe thead th {\n",
       "        text-align: right;\n",
       "    }\n",
       "</style>\n",
       "<table border=\"1\" class=\"dataframe\">\n",
       "  <thead>\n",
       "    <tr style=\"text-align: right;\">\n",
       "      <th></th>\n",
       "      <th>gender_F</th>\n",
       "      <th>gender_M</th>\n",
       "      <th>25k</th>\n",
       "      <th>age</th>\n",
       "      <th>division</th>\n",
       "      <th>10k</th>\n",
       "      <th>half</th>\n",
       "      <th>official</th>\n",
       "      <th>overall</th>\n",
       "      <th>pace</th>\n",
       "      <th>30k</th>\n",
       "      <th>5k</th>\n",
       "      <th>genderdiv</th>\n",
       "      <th>20k</th>\n",
       "      <th>35k</th>\n",
       "      <th>40k</th>\n",
       "      <th>US</th>\n",
       "    </tr>\n",
       "  </thead>\n",
       "  <tbody>\n",
       "    <tr>\n",
       "      <th>16159</th>\n",
       "      <td>1</td>\n",
       "      <td>0</td>\n",
       "      <td>144.85</td>\n",
       "      <td>65</td>\n",
       "      <td>6</td>\n",
       "      <td>57.57</td>\n",
       "      <td>121.98</td>\n",
       "      <td>247.47</td>\n",
       "      <td>17014</td>\n",
       "      <td>9.45</td>\n",
       "      <td>174.75</td>\n",
       "      <td>28.50</td>\n",
       "      <td>6686</td>\n",
       "      <td>115.63</td>\n",
       "      <td>204.83</td>\n",
       "      <td>234.48</td>\n",
       "      <td>1</td>\n",
       "    </tr>\n",
       "    <tr>\n",
       "      <th>16160</th>\n",
       "      <td>0</td>\n",
       "      <td>1</td>\n",
       "      <td>133.32</td>\n",
       "      <td>64</td>\n",
       "      <td>258</td>\n",
       "      <td>52.80</td>\n",
       "      <td>112.27</td>\n",
       "      <td>229.72</td>\n",
       "      <td>13796</td>\n",
       "      <td>8.77</td>\n",
       "      <td>161.00</td>\n",
       "      <td>26.57</td>\n",
       "      <td>9024</td>\n",
       "      <td>106.38</td>\n",
       "      <td>189.82</td>\n",
       "      <td>217.88</td>\n",
       "      <td>1</td>\n",
       "    </tr>\n",
       "    <tr>\n",
       "      <th>16161</th>\n",
       "      <td>0</td>\n",
       "      <td>1</td>\n",
       "      <td>139.83</td>\n",
       "      <td>75</td>\n",
       "      <td>3</td>\n",
       "      <td>54.97</td>\n",
       "      <td>117.58</td>\n",
       "      <td>239.97</td>\n",
       "      <td>16083</td>\n",
       "      <td>9.17</td>\n",
       "      <td>168.82</td>\n",
       "      <td>27.48</td>\n",
       "      <td>9994</td>\n",
       "      <td>111.45</td>\n",
       "      <td>198.42</td>\n",
       "      <td>227.53</td>\n",
       "      <td>0</td>\n",
       "    </tr>\n",
       "    <tr>\n",
       "      <th>16162</th>\n",
       "      <td>0</td>\n",
       "      <td>1</td>\n",
       "      <td>135.38</td>\n",
       "      <td>80</td>\n",
       "      <td>1</td>\n",
       "      <td>53.13</td>\n",
       "      <td>113.80</td>\n",
       "      <td>233.90</td>\n",
       "      <td>14768</td>\n",
       "      <td>8.93</td>\n",
       "      <td>164.02</td>\n",
       "      <td>26.93</td>\n",
       "      <td>9434</td>\n",
       "      <td>107.85</td>\n",
       "      <td>192.80</td>\n",
       "      <td>221.42</td>\n",
       "      <td>1</td>\n",
       "    </tr>\n",
       "    <tr>\n",
       "      <th>16163</th>\n",
       "      <td>1</td>\n",
       "      <td>0</td>\n",
       "      <td>144.95</td>\n",
       "      <td>61</td>\n",
       "      <td>49</td>\n",
       "      <td>57.57</td>\n",
       "      <td>121.55</td>\n",
       "      <td>249.15</td>\n",
       "      <td>17144</td>\n",
       "      <td>9.52</td>\n",
       "      <td>175.82</td>\n",
       "      <td>28.93</td>\n",
       "      <td>6762</td>\n",
       "      <td>115.32</td>\n",
       "      <td>206.67</td>\n",
       "      <td>235.85</td>\n",
       "      <td>1</td>\n",
       "    </tr>\n",
       "  </tbody>\n",
       "</table>\n",
       "</div>"
      ],
      "text/plain": [
       "       gender_F  gender_M     25k  age  division    10k    half  official  \\\n",
       "16159         1         0  144.85   65         6  57.57  121.98    247.47   \n",
       "16160         0         1  133.32   64       258  52.80  112.27    229.72   \n",
       "16161         0         1  139.83   75         3  54.97  117.58    239.97   \n",
       "16162         0         1  135.38   80         1  53.13  113.80    233.90   \n",
       "16163         1         0  144.95   61        49  57.57  121.55    249.15   \n",
       "\n",
       "       overall  pace     30k     5k  genderdiv     20k     35k     40k  US  \n",
       "16159    17014  9.45  174.75  28.50       6686  115.63  204.83  234.48   1  \n",
       "16160    13796  8.77  161.00  26.57       9024  106.38  189.82  217.88   1  \n",
       "16161    16083  9.17  168.82  27.48       9994  111.45  198.42  227.53   0  \n",
       "16162    14768  8.93  164.02  26.93       9434  107.85  192.80  221.42   1  \n",
       "16163    17144  9.52  175.82  28.93       6762  115.32  206.67  235.85   1  "
      ]
     },
     "execution_count": 21,
     "metadata": {},
     "output_type": "execute_result"
    }
   ],
   "source": [
    "df.tail()"
   ]
  },
  {
   "cell_type": "code",
   "execution_count": 22,
   "metadata": {},
   "outputs": [],
   "source": [
    "from sklearn import metrics\n",
    "from sklearn.metrics import pairwise_distances\n",
    "\n",
    "X = df\n",
    "# Normalize the data.\n",
    "X_norm = normalize(X)\n",
    "\n",
    "# Split the data into four equally-sized samples. First we break it in half:\n",
    "X_half1, X_half2 = train_test_split(\n",
    "    X_norm,\n",
    "    test_size=0.5,\n",
    "    random_state=None)\n",
    "X1, X2 = train_test_split(\n",
    "    X_half1,\n",
    "    test_size=0.5,\n",
    "    random_state=None)\n",
    "X3, X4  = train_test_split(\n",
    "    X_half2,\n",
    "    test_size=0.5,\n",
    "    random_state=None)"
   ]
  },
  {
   "cell_type": "markdown",
   "metadata": {},
   "source": [
    "# K-means"
   ]
  },
  {
   "cell_type": "code",
   "execution_count": 23,
   "metadata": {},
   "outputs": [
    {
     "name": "stdout",
     "output_type": "stream",
     "text": [
      "Number of estimated clusters: 2\n",
      "0.5216308747401411\n",
      "0.5174677195354112\n",
      "0.529660617579785\n",
      "0.5156779536526613\n",
      "Number of estimated clusters: 4\n",
      "0.6360241803401051\n",
      "0.6299776363740264\n",
      "0.6362260344260868\n",
      "0.6274301089802617\n",
      "Number of estimated clusters: 6\n",
      "0.5368001958897971\n",
      "0.46459518695654084\n",
      "0.5458370805556976\n",
      "0.534092950261014\n",
      "Number of estimated clusters: 10\n",
      "0.5409830995298812\n",
      "0.530884636786385\n",
      "0.5194539458757101\n",
      "0.5203233720242822\n",
      "Number of estimated clusters: 20\n",
      "0.4907100789445001\n",
      "0.48829891622209054\n",
      "0.4840051548420285\n",
      "0.48284656250565944\n",
      "Number of estimated clusters: 30\n",
      "0.4696652346434356\n",
      "0.4687117645027963\n",
      "0.4795395656837024\n",
      "0.47267149338781655\n",
      "Number of estimated clusters: 50\n",
      "0.48683256271302633\n",
      "0.49140763694561607\n",
      "0.4847563863495452\n",
      "0.4877158683505789\n"
     ]
    }
   ],
   "source": [
    "n_clusters = (2,4,6,10,20,30,50)\n",
    "for n in n_clusters:\n",
    "    print(\"Number of estimated clusters: {}\".format(n))\n",
    "    for sample in [X1, X2, X3, X4]:\n",
    "        model = KMeans(n_clusters=n, random_state=None).fit(sample)\n",
    "        labels = model.labels_\n",
    "        print(metrics.silhouette_score(sample, labels, metric='euclidean'))"
   ]
  },
  {
   "cell_type": "code",
   "execution_count": 24,
   "metadata": {},
   "outputs": [
    {
     "name": "stdout",
     "output_type": "stream",
     "text": [
      "0.5397112258373606\n",
      "[3 3 5 ... 2 8 3]\n"
     ]
    }
   ],
   "source": [
    "# use 10\n",
    "model = KMeans(n_clusters=10, random_state=None).fit(X1)\n",
    "labels = model.labels_\n",
    "print(metrics.silhouette_score(X1, labels, metric='euclidean'))\n",
    "print(labels)"
   ]
  },
  {
   "cell_type": "markdown",
   "metadata": {},
   "source": [
    "# Mean - Shift"
   ]
  },
  {
   "cell_type": "code",
   "execution_count": 25,
   "metadata": {},
   "outputs": [],
   "source": [
    "from sklearn.cluster import MeanShift, estimate_bandwidth"
   ]
  },
  {
   "cell_type": "code",
   "execution_count": 26,
   "metadata": {},
   "outputs": [
    {
     "name": "stdout",
     "output_type": "stream",
     "text": [
      "bandwidth: 0.18468413167282524\n",
      "Number of estimated clusters: 5\n",
      "0.6316295823291379\n",
      "bandwidth: 0.1984636853509396\n",
      "Number of estimated clusters: 5\n",
      "0.6258264105401901\n",
      "bandwidth: 0.17439524080671337\n",
      "Number of estimated clusters: 6\n",
      "0.6372359086530063\n",
      "bandwidth: 0.18865123822676924\n",
      "Number of estimated clusters: 4\n",
      "0.6274482863767548\n"
     ]
    }
   ],
   "source": [
    "for sample in [X1, X2, X3, X4]:\n",
    "    bandwidth = estimate_bandwidth(sample, quantile=0.2, n_samples=500)\n",
    "    print(\"bandwidth: {}\".format(bandwidth))\n",
    "    #bandwidth = 0.3\n",
    "    model = MeanShift(bandwidth=bandwidth, bin_seeding=True)\n",
    "    model.fit(sample)\n",
    "    labels = model.labels_\n",
    "    cluster_centers = model.cluster_centers_\n",
    "    n_clusters_ = len(np.unique(labels))\n",
    "    print(\"Number of estimated clusters: {}\".format(n_clusters_))\n",
    "    print(metrics.silhouette_score(sample, labels, metric='euclidean'))"
   ]
  },
  {
   "cell_type": "markdown",
   "metadata": {},
   "source": [
    "The k-means did a better job. "
   ]
  },
  {
   "cell_type": "code",
   "execution_count": 32,
   "metadata": {},
   "outputs": [
    {
     "data": {
      "text/plain": [
       "gender_F     16122\n",
       "gender_M     16122\n",
       "25k          16122\n",
       "age          16122\n",
       "division     16122\n",
       "10k          16122\n",
       "half         16122\n",
       "official     16122\n",
       "overall      16122\n",
       "pace         16122\n",
       "30k          16122\n",
       "5k           16122\n",
       "genderdiv    16122\n",
       "20k          16122\n",
       "35k          16122\n",
       "40k          16122\n",
       "US           16122\n",
       "dtype: int64"
      ]
     },
     "execution_count": 32,
     "metadata": {},
     "output_type": "execute_result"
    }
   ],
   "source": [
    "df.count()\n"
   ]
  },
  {
   "cell_type": "markdown",
   "metadata": {},
   "source": [
    "# Spectral Clustering "
   ]
  },
  {
   "cell_type": "code",
   "execution_count": 33,
   "metadata": {},
   "outputs": [
    {
     "name": "stdout",
     "output_type": "stream",
     "text": [
      "Number of estimated clusters: 2\n",
      "0.6274482863767548\n",
      "Number of estimated clusters: 4\n",
      "0.6274482863767548\n",
      "Number of estimated clusters: 6\n",
      "0.6274482863767548\n",
      "Number of estimated clusters: 10\n",
      "0.6274482863767548\n"
     ]
    }
   ],
   "source": [
    "from sklearn.cluster import SpectralClustering\n",
    "\n",
    "n_clusters = (2,4,6,10)  # took out 20, 30, 50 as this takes forever\n",
    "for n in n_clusters:\n",
    "    print(\"Number of estimated clusters: {}\".format(n))\n",
    "    for sample in [X1, X2, X3, X4]:\n",
    "        sc = SpectralClustering(n_clusters=n)\n",
    "        sc.fit(sample)\n",
    "        labels = model.labels_\n",
    "    print(metrics.silhouette_score(sample, labels, metric='euclidean'))"
   ]
  },
  {
   "cell_type": "markdown",
   "metadata": {},
   "source": [
    "# Affinity propagation"
   ]
  },
  {
   "cell_type": "code",
   "execution_count": 34,
   "metadata": {},
   "outputs": [
    {
     "name": "stdout",
     "output_type": "stream",
     "text": [
      "Done\n",
      "Estimated number of clusters: 2239\n"
     ]
    }
   ],
   "source": [
    "from sklearn.cluster import AffinityPropagation\n",
    "from sklearn import metrics\n",
    "\n",
    "# Declare the model and fit it in one statement.\n",
    "# Note that you can provide arguments to the model, but we didn't.\n",
    "af = AffinityPropagation().fit(X1)\n",
    "print('Done')\n",
    "\n",
    "# Pull the number of clusters and cluster assignments for each data point.\n",
    "cluster_centers_indices = af.cluster_centers_indices_\n",
    "n_clusters_ = len(cluster_centers_indices)\n",
    "labels = af.labels_\n",
    "\n",
    "print('Estimated number of clusters: {}'.format(n_clusters_))"
   ]
  },
  {
   "cell_type": "markdown",
   "metadata": {},
   "source": [
    "# Analysis of K-means"
   ]
  },
  {
   "cell_type": "code",
   "execution_count": 35,
   "metadata": {},
   "outputs": [],
   "source": [
    "model = KMeans(n_clusters=10, random_state=None).fit(X_norm)\n",
    "labels = model.labels_\n",
    "#print(metrics.silhouette_score(sample, labels, metric='euclidean'))\n",
    "\n",
    "df['clusters'] = labels"
   ]
  },
  {
   "cell_type": "code",
   "execution_count": 36,
   "metadata": {},
   "outputs": [
    {
     "data": {
      "text/html": [
       "<div>\n",
       "<style scoped>\n",
       "    .dataframe tbody tr th:only-of-type {\n",
       "        vertical-align: middle;\n",
       "    }\n",
       "\n",
       "    .dataframe tbody tr th {\n",
       "        vertical-align: top;\n",
       "    }\n",
       "\n",
       "    .dataframe thead th {\n",
       "        text-align: right;\n",
       "    }\n",
       "</style>\n",
       "<table border=\"1\" class=\"dataframe\">\n",
       "  <thead>\n",
       "    <tr style=\"text-align: right;\">\n",
       "      <th></th>\n",
       "      <th>gender_F</th>\n",
       "      <th>gender_M</th>\n",
       "      <th>25k</th>\n",
       "      <th>age</th>\n",
       "      <th>division</th>\n",
       "      <th>10k</th>\n",
       "      <th>half</th>\n",
       "      <th>official</th>\n",
       "      <th>overall</th>\n",
       "      <th>pace</th>\n",
       "      <th>30k</th>\n",
       "      <th>5k</th>\n",
       "      <th>genderdiv</th>\n",
       "      <th>20k</th>\n",
       "      <th>35k</th>\n",
       "      <th>40k</th>\n",
       "      <th>US</th>\n",
       "      <th>clusters</th>\n",
       "    </tr>\n",
       "  </thead>\n",
       "  <tbody>\n",
       "    <tr>\n",
       "      <th>16159</th>\n",
       "      <td>1</td>\n",
       "      <td>0</td>\n",
       "      <td>144.85</td>\n",
       "      <td>65</td>\n",
       "      <td>6</td>\n",
       "      <td>57.57</td>\n",
       "      <td>121.98</td>\n",
       "      <td>247.47</td>\n",
       "      <td>17014</td>\n",
       "      <td>9.45</td>\n",
       "      <td>174.75</td>\n",
       "      <td>28.50</td>\n",
       "      <td>6686</td>\n",
       "      <td>115.63</td>\n",
       "      <td>204.83</td>\n",
       "      <td>234.48</td>\n",
       "      <td>1</td>\n",
       "      <td>0</td>\n",
       "    </tr>\n",
       "    <tr>\n",
       "      <th>16160</th>\n",
       "      <td>0</td>\n",
       "      <td>1</td>\n",
       "      <td>133.32</td>\n",
       "      <td>64</td>\n",
       "      <td>258</td>\n",
       "      <td>52.80</td>\n",
       "      <td>112.27</td>\n",
       "      <td>229.72</td>\n",
       "      <td>13796</td>\n",
       "      <td>8.77</td>\n",
       "      <td>161.00</td>\n",
       "      <td>26.57</td>\n",
       "      <td>9024</td>\n",
       "      <td>106.38</td>\n",
       "      <td>189.82</td>\n",
       "      <td>217.88</td>\n",
       "      <td>1</td>\n",
       "      <td>6</td>\n",
       "    </tr>\n",
       "    <tr>\n",
       "      <th>16161</th>\n",
       "      <td>0</td>\n",
       "      <td>1</td>\n",
       "      <td>139.83</td>\n",
       "      <td>75</td>\n",
       "      <td>3</td>\n",
       "      <td>54.97</td>\n",
       "      <td>117.58</td>\n",
       "      <td>239.97</td>\n",
       "      <td>16083</td>\n",
       "      <td>9.17</td>\n",
       "      <td>168.82</td>\n",
       "      <td>27.48</td>\n",
       "      <td>9994</td>\n",
       "      <td>111.45</td>\n",
       "      <td>198.42</td>\n",
       "      <td>227.53</td>\n",
       "      <td>0</td>\n",
       "      <td>6</td>\n",
       "    </tr>\n",
       "    <tr>\n",
       "      <th>16162</th>\n",
       "      <td>0</td>\n",
       "      <td>1</td>\n",
       "      <td>135.38</td>\n",
       "      <td>80</td>\n",
       "      <td>1</td>\n",
       "      <td>53.13</td>\n",
       "      <td>113.80</td>\n",
       "      <td>233.90</td>\n",
       "      <td>14768</td>\n",
       "      <td>8.93</td>\n",
       "      <td>164.02</td>\n",
       "      <td>26.93</td>\n",
       "      <td>9434</td>\n",
       "      <td>107.85</td>\n",
       "      <td>192.80</td>\n",
       "      <td>221.42</td>\n",
       "      <td>1</td>\n",
       "      <td>6</td>\n",
       "    </tr>\n",
       "    <tr>\n",
       "      <th>16163</th>\n",
       "      <td>1</td>\n",
       "      <td>0</td>\n",
       "      <td>144.95</td>\n",
       "      <td>61</td>\n",
       "      <td>49</td>\n",
       "      <td>57.57</td>\n",
       "      <td>121.55</td>\n",
       "      <td>249.15</td>\n",
       "      <td>17144</td>\n",
       "      <td>9.52</td>\n",
       "      <td>175.82</td>\n",
       "      <td>28.93</td>\n",
       "      <td>6762</td>\n",
       "      <td>115.32</td>\n",
       "      <td>206.67</td>\n",
       "      <td>235.85</td>\n",
       "      <td>1</td>\n",
       "      <td>0</td>\n",
       "    </tr>\n",
       "  </tbody>\n",
       "</table>\n",
       "</div>"
      ],
      "text/plain": [
       "       gender_F  gender_M     25k  age  division    10k    half  official  \\\n",
       "16159         1         0  144.85   65         6  57.57  121.98    247.47   \n",
       "16160         0         1  133.32   64       258  52.80  112.27    229.72   \n",
       "16161         0         1  139.83   75         3  54.97  117.58    239.97   \n",
       "16162         0         1  135.38   80         1  53.13  113.80    233.90   \n",
       "16163         1         0  144.95   61        49  57.57  121.55    249.15   \n",
       "\n",
       "       overall  pace     30k     5k  genderdiv     20k     35k     40k  US  \\\n",
       "16159    17014  9.45  174.75  28.50       6686  115.63  204.83  234.48   1   \n",
       "16160    13796  8.77  161.00  26.57       9024  106.38  189.82  217.88   1   \n",
       "16161    16083  9.17  168.82  27.48       9994  111.45  198.42  227.53   0   \n",
       "16162    14768  8.93  164.02  26.93       9434  107.85  192.80  221.42   1   \n",
       "16163    17144  9.52  175.82  28.93       6762  115.32  206.67  235.85   1   \n",
       "\n",
       "       clusters  \n",
       "16159         0  \n",
       "16160         6  \n",
       "16161         6  \n",
       "16162         6  \n",
       "16163         0  "
      ]
     },
     "execution_count": 36,
     "metadata": {},
     "output_type": "execute_result"
    }
   ],
   "source": [
    "df.tail()"
   ]
  },
  {
   "cell_type": "code",
   "execution_count": 37,
   "metadata": {},
   "outputs": [
    {
     "name": "stdout",
     "output_type": "stream",
     "text": [
      "   clusters  gender_F  gender_M         25k        age     division  \\\n",
      "0         0  1.000000  0.000000  131.054814  47.024768   528.596362   \n",
      "1         1  0.000000  1.000000  100.026166  45.279141    87.435583   \n",
      "2         2  0.000000  1.000000   98.561897  30.783046   648.500000   \n",
      "3         3  0.014184  0.985816   84.494113  31.333333    39.737589   \n",
      "4         4  0.000000  1.000000  106.991925  32.483218  2039.100197   \n",
      "5         5  1.000000  0.000000  114.539777  34.182663   506.334365   \n",
      "6         6  0.000000  1.000000  126.178484  51.748826  1152.248491   \n",
      "7         7  1.000000  0.000000  126.809552  31.938489  2480.816784   \n",
      "8         8  0.000000  1.000000  112.760604  47.534998   577.262103   \n",
      "9         9  0.000000  1.000000   91.926438  31.399142   174.811159   \n",
      "\n",
      "         10k        half    official       overall      pace         30k  \\\n",
      "0  51.654048  109.931633  230.084899  13576.121517  8.783700  159.272841   \n",
      "1  39.852331   84.290491  172.350368   1058.423313  6.581350  120.755491   \n",
      "2  39.282960   82.932874  170.302198    864.830460  6.503563  119.014943   \n",
      "3  33.456738   71.108156  146.683688     64.134752  5.602057  102.307234   \n",
      "4  42.496032   89.995094  189.484186   3844.991609  7.234842  129.860020   \n",
      "5  45.626080   96.502378  197.923220   5551.117028  7.556793  138.430824   \n",
      "6  49.435597  105.673494  228.835842  13082.346747  8.736207  154.479634   \n",
      "7  49.948199  106.280997  223.557975  11893.102373  8.534868  154.245294   \n",
      "8  44.784252   94.893500  196.902149   5340.398397  7.518017  136.539732   \n",
      "9  36.833863   77.864893  159.229657    260.094421  6.081416  111.387253   \n",
      "\n",
      "          5k    genderdiv         20k         35k         40k        US  \n",
      "0  25.850043  4686.601006  104.193011  188.430704  217.199570  0.825851  \n",
      "1  19.992025   998.791411   79.930890  141.855552  162.932761  0.733129  \n",
      "2  19.621681   816.839080   78.757672  139.913132  161.012040  0.852011  \n",
      "3  16.759362    58.070922   67.444752  120.523546  138.436454  0.765957  \n",
      "4  21.237034  3366.820829   85.271945  153.709062  178.409269  0.819348  \n",
      "5  22.871139   863.057585   91.446755  162.952910  187.061882  0.860062  \n",
      "6  24.659504  8672.648223  100.100744  184.240852  215.257153  0.776660  \n",
      "7  25.030312  3750.380492  100.710962  182.578357  211.169521  0.899385  \n",
      "8  22.373389  4520.064138   89.962902  161.176562  185.832186  0.759174  \n",
      "9  18.460258   241.180258   73.850687  130.823219  150.466867  0.849785  \n"
     ]
    }
   ],
   "source": [
    "df_avg = df.groupby(['clusters'], as_index=False).mean()\n",
    "print(df_avg)"
   ]
  },
  {
   "cell_type": "code",
   "execution_count": 38,
   "metadata": {},
   "outputs": [
    {
     "data": {
      "text/html": [
       "<div>\n",
       "<style scoped>\n",
       "    .dataframe tbody tr th:only-of-type {\n",
       "        vertical-align: middle;\n",
       "    }\n",
       "\n",
       "    .dataframe tbody tr th {\n",
       "        vertical-align: top;\n",
       "    }\n",
       "\n",
       "    .dataframe thead th {\n",
       "        text-align: right;\n",
       "    }\n",
       "</style>\n",
       "<table border=\"1\" class=\"dataframe\">\n",
       "  <thead>\n",
       "    <tr style=\"text-align: right;\">\n",
       "      <th></th>\n",
       "      <th>clusters</th>\n",
       "      <th>gender_F</th>\n",
       "      <th>gender_M</th>\n",
       "      <th>25k</th>\n",
       "      <th>age</th>\n",
       "      <th>division</th>\n",
       "      <th>10k</th>\n",
       "      <th>half</th>\n",
       "      <th>official</th>\n",
       "      <th>overall</th>\n",
       "      <th>pace</th>\n",
       "      <th>30k</th>\n",
       "      <th>5k</th>\n",
       "      <th>genderdiv</th>\n",
       "      <th>20k</th>\n",
       "      <th>35k</th>\n",
       "      <th>40k</th>\n",
       "      <th>US</th>\n",
       "    </tr>\n",
       "  </thead>\n",
       "  <tbody>\n",
       "    <tr>\n",
       "      <th>3</th>\n",
       "      <td>3</td>\n",
       "      <td>0.014184</td>\n",
       "      <td>0.985816</td>\n",
       "      <td>84.494113</td>\n",
       "      <td>31.333333</td>\n",
       "      <td>39.737589</td>\n",
       "      <td>33.456738</td>\n",
       "      <td>71.108156</td>\n",
       "      <td>146.683688</td>\n",
       "      <td>64.134752</td>\n",
       "      <td>5.602057</td>\n",
       "      <td>102.307234</td>\n",
       "      <td>16.759362</td>\n",
       "      <td>58.070922</td>\n",
       "      <td>67.444752</td>\n",
       "      <td>120.523546</td>\n",
       "      <td>138.436454</td>\n",
       "      <td>0.765957</td>\n",
       "    </tr>\n",
       "    <tr>\n",
       "      <th>9</th>\n",
       "      <td>9</td>\n",
       "      <td>0.000000</td>\n",
       "      <td>1.000000</td>\n",
       "      <td>91.926438</td>\n",
       "      <td>31.399142</td>\n",
       "      <td>174.811159</td>\n",
       "      <td>36.833863</td>\n",
       "      <td>77.864893</td>\n",
       "      <td>159.229657</td>\n",
       "      <td>260.094421</td>\n",
       "      <td>6.081416</td>\n",
       "      <td>111.387253</td>\n",
       "      <td>18.460258</td>\n",
       "      <td>241.180258</td>\n",
       "      <td>73.850687</td>\n",
       "      <td>130.823219</td>\n",
       "      <td>150.466867</td>\n",
       "      <td>0.849785</td>\n",
       "    </tr>\n",
       "    <tr>\n",
       "      <th>2</th>\n",
       "      <td>2</td>\n",
       "      <td>0.000000</td>\n",
       "      <td>1.000000</td>\n",
       "      <td>98.561897</td>\n",
       "      <td>30.783046</td>\n",
       "      <td>648.500000</td>\n",
       "      <td>39.282960</td>\n",
       "      <td>82.932874</td>\n",
       "      <td>170.302198</td>\n",
       "      <td>864.830460</td>\n",
       "      <td>6.503563</td>\n",
       "      <td>119.014943</td>\n",
       "      <td>19.621681</td>\n",
       "      <td>816.839080</td>\n",
       "      <td>78.757672</td>\n",
       "      <td>139.913132</td>\n",
       "      <td>161.012040</td>\n",
       "      <td>0.852011</td>\n",
       "    </tr>\n",
       "    <tr>\n",
       "      <th>1</th>\n",
       "      <td>1</td>\n",
       "      <td>0.000000</td>\n",
       "      <td>1.000000</td>\n",
       "      <td>100.026166</td>\n",
       "      <td>45.279141</td>\n",
       "      <td>87.435583</td>\n",
       "      <td>39.852331</td>\n",
       "      <td>84.290491</td>\n",
       "      <td>172.350368</td>\n",
       "      <td>1058.423313</td>\n",
       "      <td>6.581350</td>\n",
       "      <td>120.755491</td>\n",
       "      <td>19.992025</td>\n",
       "      <td>998.791411</td>\n",
       "      <td>79.930890</td>\n",
       "      <td>141.855552</td>\n",
       "      <td>162.932761</td>\n",
       "      <td>0.733129</td>\n",
       "    </tr>\n",
       "    <tr>\n",
       "      <th>4</th>\n",
       "      <td>4</td>\n",
       "      <td>0.000000</td>\n",
       "      <td>1.000000</td>\n",
       "      <td>106.991925</td>\n",
       "      <td>32.483218</td>\n",
       "      <td>2039.100197</td>\n",
       "      <td>42.496032</td>\n",
       "      <td>89.995094</td>\n",
       "      <td>189.484186</td>\n",
       "      <td>3844.991609</td>\n",
       "      <td>7.234842</td>\n",
       "      <td>129.860020</td>\n",
       "      <td>21.237034</td>\n",
       "      <td>3366.820829</td>\n",
       "      <td>85.271945</td>\n",
       "      <td>153.709062</td>\n",
       "      <td>178.409269</td>\n",
       "      <td>0.819348</td>\n",
       "    </tr>\n",
       "    <tr>\n",
       "      <th>8</th>\n",
       "      <td>8</td>\n",
       "      <td>0.000000</td>\n",
       "      <td>1.000000</td>\n",
       "      <td>112.760604</td>\n",
       "      <td>47.534998</td>\n",
       "      <td>577.262103</td>\n",
       "      <td>44.784252</td>\n",
       "      <td>94.893500</td>\n",
       "      <td>196.902149</td>\n",
       "      <td>5340.398397</td>\n",
       "      <td>7.518017</td>\n",
       "      <td>136.539732</td>\n",
       "      <td>22.373389</td>\n",
       "      <td>4520.064138</td>\n",
       "      <td>89.962902</td>\n",
       "      <td>161.176562</td>\n",
       "      <td>185.832186</td>\n",
       "      <td>0.759174</td>\n",
       "    </tr>\n",
       "    <tr>\n",
       "      <th>5</th>\n",
       "      <td>5</td>\n",
       "      <td>1.000000</td>\n",
       "      <td>0.000000</td>\n",
       "      <td>114.539777</td>\n",
       "      <td>34.182663</td>\n",
       "      <td>506.334365</td>\n",
       "      <td>45.626080</td>\n",
       "      <td>96.502378</td>\n",
       "      <td>197.923220</td>\n",
       "      <td>5551.117028</td>\n",
       "      <td>7.556793</td>\n",
       "      <td>138.430824</td>\n",
       "      <td>22.871139</td>\n",
       "      <td>863.057585</td>\n",
       "      <td>91.446755</td>\n",
       "      <td>162.952910</td>\n",
       "      <td>187.061882</td>\n",
       "      <td>0.860062</td>\n",
       "    </tr>\n",
       "    <tr>\n",
       "      <th>7</th>\n",
       "      <td>7</td>\n",
       "      <td>1.000000</td>\n",
       "      <td>0.000000</td>\n",
       "      <td>126.809552</td>\n",
       "      <td>31.938489</td>\n",
       "      <td>2480.816784</td>\n",
       "      <td>49.948199</td>\n",
       "      <td>106.280997</td>\n",
       "      <td>223.557975</td>\n",
       "      <td>11893.102373</td>\n",
       "      <td>8.534868</td>\n",
       "      <td>154.245294</td>\n",
       "      <td>25.030312</td>\n",
       "      <td>3750.380492</td>\n",
       "      <td>100.710962</td>\n",
       "      <td>182.578357</td>\n",
       "      <td>211.169521</td>\n",
       "      <td>0.899385</td>\n",
       "    </tr>\n",
       "    <tr>\n",
       "      <th>6</th>\n",
       "      <td>6</td>\n",
       "      <td>0.000000</td>\n",
       "      <td>1.000000</td>\n",
       "      <td>126.178484</td>\n",
       "      <td>51.748826</td>\n",
       "      <td>1152.248491</td>\n",
       "      <td>49.435597</td>\n",
       "      <td>105.673494</td>\n",
       "      <td>228.835842</td>\n",
       "      <td>13082.346747</td>\n",
       "      <td>8.736207</td>\n",
       "      <td>154.479634</td>\n",
       "      <td>24.659504</td>\n",
       "      <td>8672.648223</td>\n",
       "      <td>100.100744</td>\n",
       "      <td>184.240852</td>\n",
       "      <td>215.257153</td>\n",
       "      <td>0.776660</td>\n",
       "    </tr>\n",
       "    <tr>\n",
       "      <th>0</th>\n",
       "      <td>0</td>\n",
       "      <td>1.000000</td>\n",
       "      <td>0.000000</td>\n",
       "      <td>131.054814</td>\n",
       "      <td>47.024768</td>\n",
       "      <td>528.596362</td>\n",
       "      <td>51.654048</td>\n",
       "      <td>109.931633</td>\n",
       "      <td>230.084899</td>\n",
       "      <td>13576.121517</td>\n",
       "      <td>8.783700</td>\n",
       "      <td>159.272841</td>\n",
       "      <td>25.850043</td>\n",
       "      <td>4686.601006</td>\n",
       "      <td>104.193011</td>\n",
       "      <td>188.430704</td>\n",
       "      <td>217.199570</td>\n",
       "      <td>0.825851</td>\n",
       "    </tr>\n",
       "  </tbody>\n",
       "</table>\n",
       "</div>"
      ],
      "text/plain": [
       "   clusters  gender_F  gender_M         25k        age     division  \\\n",
       "3         3  0.014184  0.985816   84.494113  31.333333    39.737589   \n",
       "9         9  0.000000  1.000000   91.926438  31.399142   174.811159   \n",
       "2         2  0.000000  1.000000   98.561897  30.783046   648.500000   \n",
       "1         1  0.000000  1.000000  100.026166  45.279141    87.435583   \n",
       "4         4  0.000000  1.000000  106.991925  32.483218  2039.100197   \n",
       "8         8  0.000000  1.000000  112.760604  47.534998   577.262103   \n",
       "5         5  1.000000  0.000000  114.539777  34.182663   506.334365   \n",
       "7         7  1.000000  0.000000  126.809552  31.938489  2480.816784   \n",
       "6         6  0.000000  1.000000  126.178484  51.748826  1152.248491   \n",
       "0         0  1.000000  0.000000  131.054814  47.024768   528.596362   \n",
       "\n",
       "         10k        half    official       overall      pace         30k  \\\n",
       "3  33.456738   71.108156  146.683688     64.134752  5.602057  102.307234   \n",
       "9  36.833863   77.864893  159.229657    260.094421  6.081416  111.387253   \n",
       "2  39.282960   82.932874  170.302198    864.830460  6.503563  119.014943   \n",
       "1  39.852331   84.290491  172.350368   1058.423313  6.581350  120.755491   \n",
       "4  42.496032   89.995094  189.484186   3844.991609  7.234842  129.860020   \n",
       "8  44.784252   94.893500  196.902149   5340.398397  7.518017  136.539732   \n",
       "5  45.626080   96.502378  197.923220   5551.117028  7.556793  138.430824   \n",
       "7  49.948199  106.280997  223.557975  11893.102373  8.534868  154.245294   \n",
       "6  49.435597  105.673494  228.835842  13082.346747  8.736207  154.479634   \n",
       "0  51.654048  109.931633  230.084899  13576.121517  8.783700  159.272841   \n",
       "\n",
       "          5k    genderdiv         20k         35k         40k        US  \n",
       "3  16.759362    58.070922   67.444752  120.523546  138.436454  0.765957  \n",
       "9  18.460258   241.180258   73.850687  130.823219  150.466867  0.849785  \n",
       "2  19.621681   816.839080   78.757672  139.913132  161.012040  0.852011  \n",
       "1  19.992025   998.791411   79.930890  141.855552  162.932761  0.733129  \n",
       "4  21.237034  3366.820829   85.271945  153.709062  178.409269  0.819348  \n",
       "8  22.373389  4520.064138   89.962902  161.176562  185.832186  0.759174  \n",
       "5  22.871139   863.057585   91.446755  162.952910  187.061882  0.860062  \n",
       "7  25.030312  3750.380492  100.710962  182.578357  211.169521  0.899385  \n",
       "6  24.659504  8672.648223  100.100744  184.240852  215.257153  0.776660  \n",
       "0  25.850043  4686.601006  104.193011  188.430704  217.199570  0.825851  "
      ]
     },
     "execution_count": 38,
     "metadata": {},
     "output_type": "execute_result"
    }
   ],
   "source": [
    "df_avg.sort_values(by='official')"
   ]
  },
  {
   "cell_type": "code",
   "execution_count": 39,
   "metadata": {},
   "outputs": [
    {
     "data": {
      "text/plain": [
       "Text(0.5,1,'Finish Times by Cluster')"
      ]
     },
     "execution_count": 39,
     "metadata": {},
     "output_type": "execute_result"
    },
    {
     "data": {
      "image/png": "[encoded data removed]",
      "text/plain": [
       "<Figure size 576x288 with 1 Axes>"
      ]
     },
     "metadata": {},
     "output_type": "display_data"
    }
   ],
   "source": [
    "s = df.groupby(['clusters'], as_index=False).mean()['official']\n",
    "g = sns.barplot(s.index, s, palette='rainbow')\n",
    "g.figure.set_size_inches(8,4)\n",
    "g.set_title(\"Finish Times by Cluster\")"
   ]
  },
  {
   "cell_type": "markdown",
   "metadata": {},
   "source": [
    "Finish times by clusters (9). The fastest cluster by finishing time was cluster 3. The slowest times were in cluster 0, 4, and 9. "
   ]
  },
  {
   "cell_type": "code",
   "execution_count": 40,
   "metadata": {},
   "outputs": [
    {
     "data": {
      "text/plain": [
       "Text(0.5,1,'% of Females in each Cluster')"
      ]
     },
     "execution_count": 40,
     "metadata": {},
     "output_type": "execute_result"
    },
    {
     "data": {
      "image/png": "[encoded data removed]",
      "text/plain": [
       "<Figure size 576x288 with 1 Axes>"
      ]
     },
     "metadata": {},
     "output_type": "display_data"
    }
   ],
   "source": [
    "s = df.groupby(['clusters'], as_index=False).mean()['gender_F']\n",
    "g = sns.barplot(s.index, s)\n",
    "g.figure.set_size_inches(8,4)\n",
    "g.set_title(\"% of Females in each Cluster\")"
   ]
  },
  {
   "cell_type": "markdown",
   "metadata": {},
   "source": [
    "The percentage of runners who were female per cluster. In clusters 0, 4, 5 had all female runners. Cluster 3 also the faster official time had less then 10% of females. "
   ]
  },
  {
   "cell_type": "code",
   "execution_count": 46,
   "metadata": {},
   "outputs": [
    {
     "data": {
      "text/plain": [
       "Text(0.5,1,'% of Males in each Cluster')"
      ]
     },
     "execution_count": 46,
     "metadata": {},
     "output_type": "execute_result"
    },
    {
     "data": {
      "image/png": "[encoded data removed]",
      "text/plain": [
       "<Figure size 576x288 with 1 Axes>"
      ]
     },
     "metadata": {},
     "output_type": "display_data"
    }
   ],
   "source": [
    "s = df.groupby(['clusters'], as_index=False).mean()['gender_M']\n",
    "g = sns.barplot(s.index, s)\n",
    "g.figure.set_size_inches(8,4)\n",
    "g.set_title(\"% of Males in each Cluster\")"
   ]
  },
  {
   "cell_type": "markdown",
   "metadata": {},
   "source": [
    "The percentage of runners who are male in the race. "
   ]
  },
  {
   "cell_type": "code",
   "execution_count": 47,
   "metadata": {},
   "outputs": [
    {
     "data": {
      "text/plain": [
       "Text(0.5,1,'Pace Cluster')"
      ]
     },
     "execution_count": 47,
     "metadata": {},
     "output_type": "execute_result"
    },
    {
     "data": {
      "image/png": "[encoded data removed]",
      "text/plain": [
       "<Figure size 576x288 with 1 Axes>"
      ]
     },
     "metadata": {},
     "output_type": "display_data"
    }
   ],
   "source": [
    "s = df.groupby(['clusters'], as_index=False).mean()['pace']\n",
    "g = sns.barplot(s.index, s)\n",
    "g.figure.set_size_inches(8,4)\n",
    "g.set_title(\"Pace Cluster\")"
   ]
  },
  {
   "cell_type": "markdown",
   "metadata": {},
   "source": [
    "Showing the fastest pace by cluster grouping. "
   ]
  },
  {
   "cell_type": "code",
   "execution_count": 50,
   "metadata": {},
   "outputs": [
    {
     "data": {
      "text/plain": [
       "Text(0.5,1,'40k times Cluster')"
      ]
     },
     "execution_count": 50,
     "metadata": {},
     "output_type": "execute_result"
    },
    {
     "data": {
      "image/png": "[encoded data removed]",
      "text/plain": [
       "<Figure size 576x288 with 1 Axes>"
      ]
     },
     "metadata": {},
     "output_type": "display_data"
    }
   ],
   "source": [
    "s = df.groupby(['clusters'], as_index=False).mean()['40k']\n",
    "g = sns.barplot(s.index, s)\n",
    "g.figure.set_size_inches(8,4)\n",
    "g.set_title(\"40k times Cluster\")"
   ]
  },
  {
   "cell_type": "markdown",
   "metadata": {},
   "source": [
    "This is the 40k run times for the Boston Marathon. Note cluster 3 is much faster then the rest of the field. "
   ]
  },
  {
   "cell_type": "code",
   "execution_count": 51,
   "metadata": {},
   "outputs": [
    {
     "data": {
      "text/plain": [
       "Text(0.5,1,'% US Cluster')"
      ]
     },
     "execution_count": 51,
     "metadata": {},
     "output_type": "execute_result"
    },
    {
     "data": {
      "image/png": "[encoded data removed]",
      "text/plain": [
       "<Figure size 576x288 with 1 Axes>"
      ]
     },
     "metadata": {},
     "output_type": "display_data"
    }
   ],
   "source": [
    "s = df.groupby(['clusters'], as_index=False).mean()['US']\n",
    "g = sns.barplot(s.index, s)\n",
    "g.figure.set_size_inches(8,4)\n",
    "g.set_title(\"% US Cluster\")"
   ]
  },
  {
   "cell_type": "markdown",
   "metadata": {},
   "source": [
    "The percentage of runner who are US citizens. "
   ]
  },
  {
   "cell_type": "code",
   "execution_count": 41,
   "metadata": {},
   "outputs": [
    {
     "data": {
      "text/plain": [
       "Text(0.5,1,'Ages by Cluster')"
      ]
     },
     "execution_count": 41,
     "metadata": {},
     "output_type": "execute_result"
    },
    {
     "data": {
      "image/png": "[encoded data removed]",
      "text/plain": [
       "<Figure size 576x288 with 1 Axes>"
      ]
     },
     "metadata": {},
     "output_type": "display_data"
    }
   ],
   "source": [
    "s = df.groupby(['clusters'], as_index=False).mean()['age']\n",
    "g = sns.barplot(s.index, s, palette='rainbow')\n",
    "g.figure.set_size_inches(8,4)\n",
    "g.set_title(\"Ages by Cluster\")"
   ]
  },
  {
   "cell_type": "markdown",
   "metadata": {},
   "source": [
    "Clusters by ages. Clusters 0, 2, 7 and 9 all contained runners of over 45 years old. The faster official time (see above) cluster 3 mean was around 30. "
   ]
  },
  {
   "cell_type": "code",
   "execution_count": 42,
   "metadata": {},
   "outputs": [
    {
     "data": {
      "text/plain": [
       "Text(0.5,1,'Division rank in each Cluster')"
      ]
     },
     "execution_count": 42,
     "metadata": {},
     "output_type": "execute_result"
    },
    {
     "data": {
      "image/png": "[encoded data removed]",
      "text/plain": [
       "<Figure size 576x288 with 1 Axes>"
      ]
     },
     "metadata": {},
     "output_type": "display_data"
    }
   ],
   "source": [
    "s = df.groupby(['clusters'], as_index=False).mean()['division']\n",
    "g = sns.barplot(s.index, s)\n",
    "g.figure.set_size_inches(8,4)\n",
    "g.set_title(\"Division rank in each Cluster\")"
   ]
  },
  {
   "cell_type": "markdown",
   "metadata": {},
   "source": [
    "The division rank by cluster. In this plot clusers 4, 6, and 9 contain the highest number of divisions. Cluster 3 which had the fastest official time also has the few number of divisions for runners. "
   ]
  },
  {
   "cell_type": "code",
   "execution_count": 43,
   "metadata": {},
   "outputs": [
    {
     "data": {
      "image/png": "[encoded data removed]",
      "text/plain": [
       "<Figure size 432x288 with 1 Axes>"
      ]
     },
     "metadata": {},
     "output_type": "display_data"
    }
   ],
   "source": [
    "from pylab import *\n",
    "\n",
    "t = df_avg['clusters']\n",
    "s = df_avg['5k']\n",
    "s2 = df_avg['10k']\n",
    "s3 = df_avg['20k']\n",
    "s4 = df_avg['25k']\n",
    "s5 = df_avg['30k']\n",
    "s6 = df_avg['35k']\n",
    "s7 = df_avg['40k']\n",
    "s8 = df_avg['official']\n",
    "a = df_avg['age']\n",
    "plot(t, s)\n",
    "plot(t, s2)\n",
    "plot(t, s3)\n",
    "plot(t,s4)\n",
    "plot(t,s5)\n",
    "plot(t,s6)\n",
    "plot(t,s7)\n",
    "plot(t,s8)\n",
    "\n",
    "\n",
    "xlabel('Cluster Number')\n",
    "ylabel('Time (minutes)')\n",
    "title('Split Time by cluster')\n",
    "plt.legend(bbox_to_anchor=(1.05, 1), loc=2, borderaxespad=0.)\n",
    "grid(True)\n",
    "show()"
   ]
  },
  {
   "cell_type": "markdown",
   "metadata": {},
   "source": [
    "# Discussion\n"
   ]
  },
  {
   "cell_type": "markdown",
   "metadata": {},
   "source": [
    "I selected the Boston Marathon 2013 data, I did not realize that I had selected the year of the Boston Maraton bombings. The bomb exploded at 2:49 pm with nearly 6,000 runners yet to finish (https://en.wikipedia.org/wiki/Boston_Marathon_bombing). Since 2005, the Boston Marathon as started at noon with the elite runners followed by the rest of the pack. At the time of the first explosion, the race clock at the finish line showed 04:09:43 (https://en.wikipedia.org/wiki/Boston_Marathon_bombing). Those who finished at this time were impacted by the explosion and likely did not finish. \n",
    "\n",
    "### Steps: \n",
    "To approach this data it needed to be cleaned up due to missing data. Once the dataset was cleaned I created dummy features for gender and categorizing people from the US vs. the rest of the world. \n",
    "\n",
    "In Line 22 Jupyter Notebook, I normalized the parameters and split the data into 4 samples.\n",
    "\n",
    "### Cluster modeling \n",
    "I elevuated the clustering models by how well they assigned clusters within for the following models: K-means, Mean Shift, Spectral and Affinity. For k-means, it showed that 10 clusters gave me the best results. The other models did not perform as well. Affinity high computationally intensive and assigned over 2000+ clusters, far too many for this type of problem.  Spectral produced similar results to mean shift with 4 clusters near 0.63 %. \n",
    "\n",
    "The most descriptive measure of the clusters use k-means which assigned the data into 10 clusters. However, mean shift and spectral did have higher accuracy within both models. \n",
    "\n",
    "\n",
    "Interesting clusters: \n",
    "\n",
    "Cluster 3 - had the fastest official male and female times. These were the elite runners in the marathon. They also have the fastest pace time per mile about 1 minute less then the next group. This group was dominated by elite male runners, it did have female runners as well. Of all the cluster groupings cluster 3 had the fewest divisions suggesting the difficulty of being an elite runner is very selective. \n",
    "\n",
    "Clusters 1, 2, and 9 - that next tier of runners competing for fast run times. All of these clusters have very similar age, pace, official time, and division. All are dominated by male runners at 100%. \n",
    "\n",
    "Clusters 4, 5, and 8 - were all very similar in the official run times and pace during the marathon. However, the differences in that cluster 4 had over 2000 divisions of racers. Cluster 5, was 100% female racers. And cluster 8, the mean age was 50. So despite the similarities in the official race time there are so very meaningful differences in the type of runners. \n",
    "\n",
    "Clusters 0, 6, and 7 - these were the slowest official race times and slowest pace per mile. The main difference among these clusters was with age, gender, and division. Cluster 0, was an all female group of 40 and older. Cluster 6, quite similar except it was all male of 40 and older. Cluster 7, was all female group in 30's with nearly 2500 division of racers. \n",
    "\n",
    "Overall, cluster 3 assigned the fastest racers. \n",
    " "
   ]
  },
  {
   "cell_type": "code",
   "execution_count": null,
   "metadata": {},
   "outputs": [],
   "source": []
  }
 ],
 "metadata": {
  "kernelspec": {
   "display_name": "Python 3",
   "language": "python",
   "name": "python3"
  },
  "language_info": {
   "codemirror_mode": {
    "name": "ipython",
    "version": 3
   },
   "file_extension": ".py",
   "mimetype": "text/x-python",
   "name": "python",
   "nbconvert_exporter": "python",
   "pygments_lexer": "ipython3",
   "version": "3.6.5"
  }
 },
 "nbformat": 4,
 "nbformat_minor": 2
}
